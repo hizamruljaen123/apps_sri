{
 "cells": [
  {
   "cell_type": "code",
   "execution_count": 5,
   "metadata": {},
   "outputs": [
    {
     "data": {
      "text/plain": [
       "'dummy_samples_go.json'"
      ]
     },
     "execution_count": 5,
     "metadata": {},
     "output_type": "execute_result"
    }
   ],
   "source": [
    "import random\n",
    "import json\n",
    "\n",
    "# Definisikan gejala yang mungkin\n",
    "gejala_list = [\n",
    "    \"Bercak kuning pada daun\", \"Daun gugur\", \"Pucuk menghitam\", \"Tepung oranye di bawah daun\",\n",
    "    \"Daun mengering\", \"Buah pecah\", \"Bercak hitam pada buah\", \"Penyebaran bercak yang cepat pada buah\",\n",
    "    \"Akar menghitam\", \"Tanaman layu\", \"Daun menguning\", \"Pertumbuhan terhambat\",\n",
    "    \"Buah berair\", \"Buah menghitam\", \"Serbuk putih pada daun\", \"Leher akar membusuk\",\n",
    "    \"Pangkal batang membusuk\", \"Daun rontok\"\n",
    "]\n",
    "\n",
    "# Generate dummy data\n",
    "num_samples = 300  # Jumlah sampel yang diinginkan\n",
    "dummy_samples = []\n",
    "\n",
    "for _ in range(num_samples):\n",
    "    num_gejala = random.randint(3, 9)  # Jumlah gejala acak untuk setiap sampel\n",
    "    sample = []\n",
    "    for _ in range(num_gejala):\n",
    "        gejala = random.choice(gejala_list)\n",
    "        probabilitas = round(random.uniform(0.4, 0.9), 2)\n",
    "        sample.append({\"Gejala\": gejala, \"Probabilitas\": probabilitas})\n",
    "    dummy_samples.append(sample)\n",
    "\n",
    "# Simpan data dummy dalam bentuk file JSON\n",
    "dummy_json_path = 'dummy_samples_go.json'\n",
    "with open(dummy_json_path, 'w') as f:\n",
    "    json.dump(dummy_samples, f, indent=4)\n",
    "\n",
    "dummy_json_path\n"
   ]
  }
 ],
 "metadata": {
  "kernelspec": {
   "display_name": "base",
   "language": "python",
   "name": "python3"
  },
  "language_info": {
   "codemirror_mode": {
    "name": "ipython",
    "version": 3
   },
   "file_extension": ".py",
   "mimetype": "text/x-python",
   "name": "python",
   "nbconvert_exporter": "python",
   "pygments_lexer": "ipython3",
   "version": "3.11.7"
  }
 },
 "nbformat": 4,
 "nbformat_minor": 2
}
