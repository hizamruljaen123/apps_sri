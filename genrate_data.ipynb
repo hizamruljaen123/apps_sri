{
 "cells": [
  {
   "cell_type": "code",
   "execution_count": null,
   "metadata": {},
   "outputs": [],
   "source": [
    "import random\n",
    "\n",
    "# Definisikan gejala yang mungkin\n",
    "gejala_list = [\n",
    "    \"Bercak kuning pada daun\", \"Daun gugur\", \"Pucuk menghitam\", \"Tepung oranye di bawah daun\",\n",
    "    \"Daun mengering\", \"Buah pecah\", \"Bercak hitam pada buah\", \"Penyebaran bercak yang cepat pada buah\",\n",
    "    \"Akar menghitam\", \"Tanaman layu\", \"Daun menguning\", \"Pertumbuhan terhambat\",\n",
    "    \"Buah berair\", \"Buah menghitam\", \"Serbuk putih pada daun\", \"Leher akar membusuk\",\n",
    "    \"Pangkal batang membusuk\", \"Daun rontok\"\n",
    "]\n",
    "\n",
    "# Generate dummy data\n",
    "num_samples = 50  # Jumlah sampel yang diinginkan\n",
    "dummy_samples = []\n",
    "\n",
    "for _ in range(num_samples):\n",
    "    num_gejala = random.randint(3, 9)  # Jumlah gejala acak untuk setiap sampel\n",
    "    sample = []\n",
    "    for _ in range(num_gejala):\n",
    "        gejala = random.choice(gejala_list)\n",
    "        probabilitas = round(random.uniform(0.4, 0.9), 2)\n",
    "        sample.append({\"Gejala\": gejala, \"Probabilitas\": probabilitas})\n",
    "    dummy_samples.append(sample)\n",
    "\n",
    "# Simpan data dummy dalam bentuk file JSON\n",
    "dummy_json_path = 'generated_dummy_samples.json'\n",
    "with open(dummy_json_path, 'w') as f:\n",
    "    json.dump(dummy_samples, f, indent=4)\n",
    "\n",
    "dummy_json_path\n"
   ]
  }
 ],
 "metadata": {
  "language_info": {
   "name": "python"
  }
 },
 "nbformat": 4,
 "nbformat_minor": 2
}
