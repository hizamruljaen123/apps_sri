{
 "cells": [
  {
   "cell_type": "code",
   "execution_count": null,
   "metadata": {},
   "outputs": [],
   "source": [
    "import pandas as pd\n",
    "\n",
    "# Definisikan beberapa gejala dan probabilitasnya\n",
    "symptoms = [\n",
    "    {'Gejala': 'Daun Kuning', 'Probabilitas': 0.6},\n",
    "    {'Gejala': 'Bercak Hitam', 'Probabilitas': 0.7},\n",
    "    {'Gejala': 'Gugur Daun', 'Probabilitas': 0.5}\n",
    "]\n",
    "\n",
    "# Definisikan beberapa penyakit dan tambahkan keyakinan terhadap gejala\n",
    "disease1_beliefs = [\n",
    "    {'Penyakit': 'Penyakit Karat Daun', 'Gejala': 'Daun Kuning', 'Bobot': 0.6},\n",
    "    {'Penyakit': 'Penyakit Karat Daun', 'Gejala': 'Bercak Hitam', 'Bobot': 0.4}\n",
    "]\n",
    "\n",
    "disease2_beliefs = [\n",
    "    {'Penyakit': 'Penyakit Jamur', 'Gejala': 'Bercak Hitam', 'Bobot': 0.5},\n",
    "    {'Penyakit': 'Penyakit Jamur', 'Gejala': 'Gugur Daun', 'Bobot': 0.5}\n",
    "]\n",
    "\n",
    "# Konversi ke DataFrame\n",
    "df_symptoms = pd.DataFrame(symptoms)\n",
    "df_disease1 = pd.DataFrame(disease1_beliefs)\n",
    "df_disease2 = pd.DataFrame(disease2_beliefs)\n"
   ]
  },
  {
   "cell_type": "code",
   "execution_count": null,
   "metadata": {},
   "outputs": [],
   "source": [
    "from IPython.display import display\n",
    "\n",
    "display(df_symptoms)\n",
    "display(df_disease1)\n",
    "display(df_disease2)\n"
   ]
  },
  {
   "cell_type": "code",
   "execution_count": null,
   "metadata": {},
   "outputs": [],
   "source": [
    "def get_mass(disease_beliefs):\n",
    "    mass = {}\n",
    "    for belief in disease_beliefs:\n",
    "        symptom = belief['Gejala']\n",
    "        weight = belief['Bobot']\n",
    "        probability = next(item for item in symptoms if item['Gejala'] == symptom)['Probabilitas']\n",
    "        mass[symptom] = mass.get(symptom, 0) + probability * weight\n",
    "    return mass\n",
    "\n",
    "mass1 = get_mass(disease1_beliefs)\n",
    "mass2 = get_mass(disease2_beliefs)\n",
    "\n",
    "display(\"Mass Penyakit Karat Daun:\", mass1)\n",
    "display(\"Mass Penyakit Jamur:\", mass2)\n"
   ]
  },
  {
   "cell_type": "code",
   "execution_count": null,
   "metadata": {},
   "outputs": [],
   "source": [
    "def combine_beliefs(mass1, mass2):\n",
    "    combined_mass = {}\n",
    "    for s1, m1 in mass1.items():\n",
    "        for s2, m2 in mass2.items():\n",
    "            if s1 == s2:\n",
    "                combined_mass[s1] = combined_mass.get(s1, 0) + m1 * m2\n",
    "            else:\n",
    "                combined_mass[s1 + '|' + s2] = combined_mass.get(s1 + '|' + s2, 0) + m1 * m2\n",
    "\n",
    "    normalized_mass = {}\n",
    "    total_mass = sum(combined_mass.values())\n",
    "    for key in combined_mass:\n",
    "        normalized_mass[key] = combined_mass[key] / total_mass\n",
    "    return normalized_mass\n",
    "\n",
    "combined_mass = combine_beliefs(mass1, mass2)\n",
    "\n",
    "display(\"Mass Kombinasi:\", combined_mass)\n"
   ]
  },
  {
   "cell_type": "code",
   "execution_count": null,
   "metadata": {},
   "outputs": [],
   "source": [
    "import matplotlib.pyplot as plt\n",
    "\n",
    "# Interpretasi hasil\n",
    "max_belief = max(combined_mass, key=combined_mass.get)\n",
    "print(f\"Penyakit yang terdeteksi berdasarkan gejala: {max_belief.split('|')[0]}\")\n",
    "\n",
    "# Buat tabel persentase kemungkinan dan nilai Dempster-Shafer\n",
    "df_combined_mass = pd.DataFrame(list(combined_mass.items()), columns=['Kemungkinan Penyakit', 'Nilai Dempster-Shafer'])\n",
    "display(df_combined_mass)\n",
    "\n",
    "# Buat grafik persentase pie chart\n",
    "labels = df_combined_mass['Kemungkinan Penyakit']\n",
    "values = df_combined_mass['Nilai Dempster-Shafer']\n",
    "\n",
    "plt.figure(figsize=(10, 6))\n",
    "plt.pie(values, labels=labels, autopct='%1.1f%%', startangle=140, colors=plt.cm.Paired.colors)\n",
    "plt.title('Persentase Kemungkinan Penyakit Berdasarkan Gejala')\n",
    "plt.axis('equal')\n",
    "plt.show()\n"
   ]
  }
 ],
 "metadata": {
  "kernelspec": {
   "display_name": "base",
   "language": "python",
   "name": "python3"
  },
  "language_info": {
   "codemirror_mode": {
    "name": "ipython",
    "version": 3
   },
   "file_extension": ".py",
   "mimetype": "text/x-python",
   "name": "python",
   "nbconvert_exporter": "python",
   "pygments_lexer": "ipython3",
   "version": "3.11.7"
  }
 },
 "nbformat": 4,
 "nbformat_minor": 2
}
