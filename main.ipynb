{
 "cells": [
  {
   "cell_type": "code",
   "execution_count": 4,
   "metadata": {},
   "outputs": [],
   "source": [
    "import pandas as pd\n",
    "\n",
    "# Definisikan beberapa gejala dan probabilitasnya\n",
    "symptoms = [\n",
    "    {'Gejala': 'Daun Kuning', 'Probabilitas': 0.6},\n",
    "    {'Gejala': 'Bercak Hitam', 'Probabilitas': 0.7},\n",
    "    {'Gejala': 'Gugur Daun', 'Probabilitas': 0.5}\n",
    "]\n",
    "\n",
    "# Definisikan beberapa penyakit dan tambahkan keyakinan terhadap gejala\n",
    "disease1_beliefs = [\n",
    "    {'Penyakit': 'Penyakit Karat Daun', 'Gejala': 'Daun Kuning', 'Bobot': 0.6},\n",
    "    {'Penyakit': 'Penyakit Karat Daun', 'Gejala': 'Bercak Hitam', 'Bobot': 0.4}\n",
    "]\n",
    "\n",
    "disease2_beliefs = [\n",
    "    {'Penyakit': 'Penyakit Jamur', 'Gejala': 'Bercak Hitam', 'Bobot': 0.5},\n",
    "    {'Penyakit': 'Penyakit Jamur', 'Gejala': 'Gugur Daun', 'Bobot': 0.5}\n",
    "]\n",
    "\n",
    "# Konversi ke DataFrame\n",
    "df_symptoms = pd.DataFrame(symptoms)\n",
    "df_disease1 = pd.DataFrame(disease1_beliefs)\n",
    "df_disease2 = pd.DataFrame(disease2_beliefs)\n"
   ]
  },
  {
   "cell_type": "code",
   "execution_count": 5,
   "metadata": {},
   "outputs": [
    {
     "data": {
      "text/html": [
       "<div>\n",
       "<style scoped>\n",
       "    .dataframe tbody tr th:only-of-type {\n",
       "        vertical-align: middle;\n",
       "    }\n",
       "\n",
       "    .dataframe tbody tr th {\n",
       "        vertical-align: top;\n",
       "    }\n",
       "\n",
       "    .dataframe thead th {\n",
       "        text-align: right;\n",
       "    }\n",
       "</style>\n",
       "<table border=\"1\" class=\"dataframe\">\n",
       "  <thead>\n",
       "    <tr style=\"text-align: right;\">\n",
       "      <th></th>\n",
       "      <th>Gejala</th>\n",
       "      <th>Probabilitas</th>\n",
       "    </tr>\n",
       "  </thead>\n",
       "  <tbody>\n",
       "    <tr>\n",
       "      <th>0</th>\n",
       "      <td>Daun Kuning</td>\n",
       "      <td>0.6</td>\n",
       "    </tr>\n",
       "    <tr>\n",
       "      <th>1</th>\n",
       "      <td>Bercak Hitam</td>\n",
       "      <td>0.7</td>\n",
       "    </tr>\n",
       "    <tr>\n",
       "      <th>2</th>\n",
       "      <td>Gugur Daun</td>\n",
       "      <td>0.5</td>\n",
       "    </tr>\n",
       "  </tbody>\n",
       "</table>\n",
       "</div>"
      ],
      "text/plain": [
       "         Gejala  Probabilitas\n",
       "0   Daun Kuning           0.6\n",
       "1  Bercak Hitam           0.7\n",
       "2    Gugur Daun           0.5"
      ]
     },
     "metadata": {},
     "output_type": "display_data"
    },
    {
     "data": {
      "text/html": [
       "<div>\n",
       "<style scoped>\n",
       "    .dataframe tbody tr th:only-of-type {\n",
       "        vertical-align: middle;\n",
       "    }\n",
       "\n",
       "    .dataframe tbody tr th {\n",
       "        vertical-align: top;\n",
       "    }\n",
       "\n",
       "    .dataframe thead th {\n",
       "        text-align: right;\n",
       "    }\n",
       "</style>\n",
       "<table border=\"1\" class=\"dataframe\">\n",
       "  <thead>\n",
       "    <tr style=\"text-align: right;\">\n",
       "      <th></th>\n",
       "      <th>Penyakit</th>\n",
       "      <th>Gejala</th>\n",
       "      <th>Bobot</th>\n",
       "    </tr>\n",
       "  </thead>\n",
       "  <tbody>\n",
       "    <tr>\n",
       "      <th>0</th>\n",
       "      <td>Penyakit Karat Daun</td>\n",
       "      <td>Daun Kuning</td>\n",
       "      <td>0.6</td>\n",
       "    </tr>\n",
       "    <tr>\n",
       "      <th>1</th>\n",
       "      <td>Penyakit Karat Daun</td>\n",
       "      <td>Bercak Hitam</td>\n",
       "      <td>0.4</td>\n",
       "    </tr>\n",
       "  </tbody>\n",
       "</table>\n",
       "</div>"
      ],
      "text/plain": [
       "              Penyakit        Gejala  Bobot\n",
       "0  Penyakit Karat Daun   Daun Kuning    0.6\n",
       "1  Penyakit Karat Daun  Bercak Hitam    0.4"
      ]
     },
     "metadata": {},
     "output_type": "display_data"
    },
    {
     "data": {
      "text/html": [
       "<div>\n",
       "<style scoped>\n",
       "    .dataframe tbody tr th:only-of-type {\n",
       "        vertical-align: middle;\n",
       "    }\n",
       "\n",
       "    .dataframe tbody tr th {\n",
       "        vertical-align: top;\n",
       "    }\n",
       "\n",
       "    .dataframe thead th {\n",
       "        text-align: right;\n",
       "    }\n",
       "</style>\n",
       "<table border=\"1\" class=\"dataframe\">\n",
       "  <thead>\n",
       "    <tr style=\"text-align: right;\">\n",
       "      <th></th>\n",
       "      <th>Penyakit</th>\n",
       "      <th>Gejala</th>\n",
       "      <th>Bobot</th>\n",
       "    </tr>\n",
       "  </thead>\n",
       "  <tbody>\n",
       "    <tr>\n",
       "      <th>0</th>\n",
       "      <td>Penyakit Jamur</td>\n",
       "      <td>Bercak Hitam</td>\n",
       "      <td>0.5</td>\n",
       "    </tr>\n",
       "    <tr>\n",
       "      <th>1</th>\n",
       "      <td>Penyakit Jamur</td>\n",
       "      <td>Gugur Daun</td>\n",
       "      <td>0.5</td>\n",
       "    </tr>\n",
       "  </tbody>\n",
       "</table>\n",
       "</div>"
      ],
      "text/plain": [
       "         Penyakit        Gejala  Bobot\n",
       "0  Penyakit Jamur  Bercak Hitam    0.5\n",
       "1  Penyakit Jamur    Gugur Daun    0.5"
      ]
     },
     "metadata": {},
     "output_type": "display_data"
    }
   ],
   "source": [
    "from IPython.display import display\n",
    "\n",
    "display(df_symptoms)\n",
    "display(df_disease1)\n",
    "display(df_disease2)\n"
   ]
  },
  {
   "cell_type": "code",
   "execution_count": 6,
   "metadata": {},
   "outputs": [
    {
     "name": "stdout",
     "output_type": "stream",
     "text": [
      "Mass Penyakit Karat Daun: {'Daun Kuning': 0.36, 'Bercak Hitam': 0.27999999999999997}\n",
      "Mass Penyakit Jamur: {'Bercak Hitam': 0.35, 'Gugur Daun': 0.25}\n"
     ]
    }
   ],
   "source": [
    "def get_mass(disease_beliefs):\n",
    "    mass = {}\n",
    "    for belief in disease_beliefs:\n",
    "        symptom = belief['Gejala']\n",
    "        weight = belief['Bobot']\n",
    "        probability = next(item for item in symptoms if item['Gejala'] == symptom)['Probabilitas']\n",
    "        mass[symptom] = mass.get(symptom, 0) + probability * weight\n",
    "    return mass\n",
    "\n",
    "mass1 = get_mass(disease1_beliefs)\n",
    "mass2 = get_mass(disease2_beliefs)\n",
    "\n",
    "print(\"Mass Penyakit Karat Daun:\", mass1)\n",
    "print(\"Mass Penyakit Jamur:\", mass2)\n"
   ]
  },
  {
   "cell_type": "code",
   "execution_count": 7,
   "metadata": {},
   "outputs": [
    {
     "name": "stdout",
     "output_type": "stream",
     "text": [
      "Mass Kombinasi: {'Daun Kuning|Bercak Hitam': 0.328125, 'Daun Kuning|Gugur Daun': 0.234375, 'Bercak Hitam': 0.2552083333333333, 'Bercak Hitam|Gugur Daun': 0.18229166666666666}\n"
     ]
    }
   ],
   "source": [
    "def combine_beliefs(mass1, mass2):\n",
    "    combined_mass = {}\n",
    "    for s1, m1 in mass1.items():\n",
    "        for s2, m2 in mass2.items():\n",
    "            if s1 == s2:\n",
    "                combined_mass[s1] = combined_mass.get(s1, 0) + m1 * m2\n",
    "            else:\n",
    "                combined_mass[s1 + '|' + s2] = combined_mass.get(s1 + '|' + s2, 0) + m1 * m2\n",
    "\n",
    "    normalized_mass = {}\n",
    "    total_mass = sum(combined_mass.values())\n",
    "    for key in combined_mass:\n",
    "        normalized_mass[key] = combined_mass[key] / total_mass\n",
    "    return normalized_mass\n",
    "\n",
    "combined_mass = combine_beliefs(mass1, mass2)\n",
    "\n",
    "print(\"Mass Kombinasi:\", combined_mass)\n"
   ]
  },
  {
   "cell_type": "code",
   "execution_count": 9,
   "metadata": {},
   "outputs": [
    {
     "name": "stdout",
     "output_type": "stream",
     "text": [
      "Penyakit yang terdeteksi berdasarkan gejala: Daun Kuning\n"
     ]
    },
    {
     "data": {
      "text/html": [
       "<div>\n",
       "<style scoped>\n",
       "    .dataframe tbody tr th:only-of-type {\n",
       "        vertical-align: middle;\n",
       "    }\n",
       "\n",
       "    .dataframe tbody tr th {\n",
       "        vertical-align: top;\n",
       "    }\n",
       "\n",
       "    .dataframe thead th {\n",
       "        text-align: right;\n",
       "    }\n",
       "</style>\n",
       "<table border=\"1\" class=\"dataframe\">\n",
       "  <thead>\n",
       "    <tr style=\"text-align: right;\">\n",
       "      <th></th>\n",
       "      <th>Kemungkinan Penyakit</th>\n",
       "      <th>Nilai Dempster-Shafer</th>\n",
       "    </tr>\n",
       "  </thead>\n",
       "  <tbody>\n",
       "    <tr>\n",
       "      <th>0</th>\n",
       "      <td>Daun Kuning|Bercak Hitam</td>\n",
       "      <td>0.328125</td>\n",
       "    </tr>\n",
       "    <tr>\n",
       "      <th>1</th>\n",
       "      <td>Daun Kuning|Gugur Daun</td>\n",
       "      <td>0.234375</td>\n",
       "    </tr>\n",
       "    <tr>\n",
       "      <th>2</th>\n",
       "      <td>Bercak Hitam</td>\n",
       "      <td>0.255208</td>\n",
       "    </tr>\n",
       "    <tr>\n",
       "      <th>3</th>\n",
       "      <td>Bercak Hitam|Gugur Daun</td>\n",
       "      <td>0.182292</td>\n",
       "    </tr>\n",
       "  </tbody>\n",
       "</table>\n",
       "</div>"
      ],
      "text/plain": [
       "       Kemungkinan Penyakit  Nilai Dempster-Shafer\n",
       "0  Daun Kuning|Bercak Hitam               0.328125\n",
       "1    Daun Kuning|Gugur Daun               0.234375\n",
       "2              Bercak Hitam               0.255208\n",
       "3   Bercak Hitam|Gugur Daun               0.182292"
      ]
     },
     "metadata": {},
     "output_type": "display_data"
    },
    {
     "data": {
      "image/png": "[encoded data removed]",
      "text/plain": [
       "<Figure size 1000x600 with 1 Axes>"
      ]
     },
     "metadata": {},
     "output_type": "display_data"
    }
   ],
   "source": [
    "import matplotlib.pyplot as plt\n",
    "\n",
    "# Interpretasi hasil\n",
    "max_belief = max(combined_mass, key=combined_mass.get)\n",
    "print(f\"Penyakit yang terdeteksi berdasarkan gejala: {max_belief.split('|')[0]}\")\n",
    "\n",
    "# Buat tabel persentase kemungkinan dan nilai Dempster-Shafer\n",
    "df_combined_mass = pd.DataFrame(list(combined_mass.items()), columns=['Kemungkinan Penyakit', 'Nilai Dempster-Shafer'])\n",
    "display(df_combined_mass)\n",
    "\n",
    "# Buat grafik persentase pie chart\n",
    "labels = df_combined_mass['Kemungkinan Penyakit']\n",
    "values = df_combined_mass['Nilai Dempster-Shafer']\n",
    "\n",
    "plt.figure(figsize=(10, 6))\n",
    "plt.pie(values, labels=labels, autopct='%1.1f%%', startangle=140, colors=plt.cm.Paired.colors)\n",
    "plt.title('Persentase Kemungkinan Penyakit Berdasarkan Gejala')\n",
    "plt.axis('equal')\n",
    "plt.show()\n"
   ]
  }
 ],
 "metadata": {
  "kernelspec": {
   "display_name": "base",
   "language": "python",
   "name": "python3"
  },
  "language_info": {
   "codemirror_mode": {
    "name": "ipython",
    "version": 3
   },
   "file_extension": ".py",
   "mimetype": "text/x-python",
   "name": "python",
   "nbconvert_exporter": "python",
   "pygments_lexer": "ipython3",
   "version": "3.11.5"
  }
 },
 "nbformat": 4,
 "nbformat_minor": 2
}
